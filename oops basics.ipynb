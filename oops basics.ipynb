{
 "cells": [
  {
   "cell_type": "code",
   "execution_count": 3,
   "id": "6f18650f-5b7c-417e-9135-12e6d9b66a94",
   "metadata": {},
   "outputs": [
    {
     "name": "stdout",
     "output_type": "stream",
     "text": [
      "<class '__main__.employee'>\n",
      "<class '__main__.employee'>\n",
      "<class '__main__.employee'>\n"
     ]
    }
   ],
   "source": [
    "class employee:\n",
    "    pass\n",
    "e1=(employee)\n",
    "e2=(employee)\n",
    "e3=(employee)\n",
    "print(e1)\n",
    "print(e3)\n",
    "print(e2)\n",
    "    "
   ]
  },
  {
   "cell_type": "code",
   "execution_count": 4,
   "id": "2a2b7727-05ea-416e-bbd0-4d40465203cd",
   "metadata": {},
   "outputs": [
    {
     "name": "stdout",
     "output_type": "stream",
     "text": [
      "<class '__main__.employee'>\n",
      "<class '__main__.employee'>\n",
      "<class '__main__.employee'>\n",
      "1643662562976\n",
      "1643662562976\n",
      "1643662562976\n",
      "<class 'type'>\n",
      "<class 'type'>\n",
      "<class 'type'>\n"
     ]
    }
   ],
   "source": [
    "class employee:\n",
    "    pass\n",
    "e1=(employee)\n",
    "e2=(employee)\n",
    "e3=(employee)\n",
    "print(e1)\n",
    "print(e3)\n",
    "print(e2)\n",
    "print(id(e1))\n",
    "print(id(e2))\n",
    "print(id(e3))\n",
    "print(type(e1))\n",
    "print(type(e2))\n",
    "print(type(e3))\n",
    "    \n"
   ]
  },
  {
   "cell_type": "code",
   "execution_count": 5,
   "id": "514c032c-c384-4ca8-b04d-6c66724f2037",
   "metadata": {},
   "outputs": [
    {
     "name": "stdout",
     "output_type": "stream",
     "text": [
      "10\n",
      "Rishi\n",
      "<class '__main__.employee'>\n"
     ]
    }
   ],
   "source": [
    "a=10\n",
    "emp=\"Rishi\"\n",
    "class employee:\n",
    "    pass\n",
    "print(a)\n",
    "print(emp)\n",
    "print(employee)"
   ]
  },
  {
   "cell_type": "code",
   "execution_count": 6,
   "id": "8c2cb14c-2b67-403e-94ee-85915532c934",
   "metadata": {},
   "outputs": [
    {
     "name": "stdout",
     "output_type": "stream",
     "text": [
      "10\n",
      "Rishi\n",
      "<class '__main__.employee'>\n",
      "1643662560992\n"
     ]
    }
   ],
   "source": [
    "a=10\n",
    "emp=\"Rishi\"\n",
    "class employee:\n",
    "    pass\n",
    "e1=employee    \n",
    "print(a)\n",
    "print(emp)\n",
    "print(employee)\n",
    "print(id(e1))"
   ]
  },
  {
   "cell_type": "code",
   "execution_count": 7,
   "id": "c04d45fd-d2c8-45c1-bf0a-e5f5c85ed636",
   "metadata": {},
   "outputs": [
    {
     "name": "stdout",
     "output_type": "stream",
     "text": [
      "10\n",
      "Rishi\n",
      "<class '__main__.employee'>\n",
      "1643662580832\n",
      "{'__module__': '__main__', '__dict__': <attribute '__dict__' of 'employee' objects>, '__weakref__': <attribute '__weakref__' of 'employee' objects>, '__doc__': None}\n"
     ]
    }
   ],
   "source": [
    "a=10\n",
    "emp=\"Rishi\"\n",
    "class employee:\n",
    "    pass\n",
    "e1=employee    \n",
    "print(a)\n",
    "print(emp)\n",
    "print(employee)\n",
    "print(id(e1))\n",
    "print(e1.__dict__)"
   ]
  },
  {
   "cell_type": "code",
   "execution_count": 14,
   "id": "07fdec04-5f32-4434-a5a7-a938ddf83f37",
   "metadata": {},
   "outputs": [
    {
     "name": "stdout",
     "output_type": "stream",
     "text": [
      "10\n",
      "Rishi\n",
      "<class '__main__.employee'>\n",
      "1643662579840\n",
      "{'__module__': '__main__', 'esal': 60000, 'a': 10, 'ename': 'Rishi', '__dict__': <attribute '__dict__' of 'employee' objects>, '__weakref__': <attribute '__weakref__' of 'employee' objects>, '__doc__': None}\n"
     ]
    }
   ],
   "source": [
    "class employee:\n",
    "    esal=60000\n",
    "    a=10\n",
    "    ename=\"Rishi\"\n",
    "e1=employee    \n",
    "print(a)\n",
    "print(emp)\n",
    "print(employee)\n",
    "print(id(e1))\n",
    "\n",
    "print(employee.__dict__)"
   ]
  },
  {
   "cell_type": "code",
   "execution_count": null,
   "id": "7efe48ad-73db-4f9b-b1dc-34ee846ee68a",
   "metadata": {},
   "outputs": [],
   "source": []
  }
 ],
 "metadata": {
  "kernelspec": {
   "display_name": "Python 3 (ipykernel)",
   "language": "python",
   "name": "python3"
  },
  "language_info": {
   "codemirror_mode": {
    "name": "ipython",
    "version": 3
   },
   "file_extension": ".py",
   "mimetype": "text/x-python",
   "name": "python",
   "nbconvert_exporter": "python",
   "pygments_lexer": "ipython3",
   "version": "3.12.2"
  }
 },
 "nbformat": 4,
 "nbformat_minor": 5
}
