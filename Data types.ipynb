{
 "cells": [
  {
   "cell_type": "code",
   "execution_count": 8,
   "id": "312cceb4-a3c5-4e0e-bee8-8f22b766504c",
   "metadata": {},
   "outputs": [
    {
     "name": "stdout",
     "output_type": "stream",
     "text": [
      "<class 'int'> <class 'int'> <class 'int'>\n",
      "<class 'int'>\n",
      "<class 'int'>\n",
      "<class 'str'>\n",
      "<class 'str'>\n",
      "<class 'float'>\n",
      "<class 'complex'>\n",
      "20.0\n",
      "27\n"
     ]
    }
   ],
   "source": [
    "'''\n",
    "python data types\n",
    "int\n",
    "boolean\n",
    "string\n",
    "Float\n",
    "complex\n",
    "'''\n",
    "a=10\n",
    "b=20\n",
    "c=-12\n",
    "print(type(a),type(b),type(c))\n",
    "\n",
    "a=15\n",
    "c='rishitej'\n",
    "d=\"rishi\"\n",
    "f=24.5\n",
    "g=10+20j\n",
    "print(type(a))\n",
    "print(type(b))\n",
    "print(type(c))\n",
    "print(type(d))\n",
    "print(type(f))\n",
    "print(type(g))\n",
    "\n",
    "\"\"\"\n",
    "type connversions\n",
    "\"\"\"\n",
    "#int to float\n",
    "a=20\n",
    "print(float(a))\n",
    "#float to int\n",
    "b=27.4\n",
    "print (int(b))"
   ]
  },
  {
   "cell_type": "raw",
   "id": "26965118-ab79-4c61-9028-e5a9c7a2d588",
   "metadata": {},
   "source": []
  }
 ],
 "metadata": {
  "kernelspec": {
   "display_name": "Python 3 (ipykernel)",
   "language": "python",
   "name": "python3"
  },
  "language_info": {
   "codemirror_mode": {
    "name": "ipython",
    "version": 3
   },
   "file_extension": ".py",
   "mimetype": "text/x-python",
   "name": "python",
   "nbconvert_exporter": "python",
   "pygments_lexer": "ipython3",
   "version": "3.12.2"
  }
 },
 "nbformat": 4,
 "nbformat_minor": 5
}
