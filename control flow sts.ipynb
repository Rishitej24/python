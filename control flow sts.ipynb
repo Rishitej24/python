{
 "cells": [
  {
   "cell_type": "code",
   "execution_count": 1,
   "id": "d6b36f20-4322-4ff1-8169-465ed11684ef",
   "metadata": {},
   "outputs": [
    {
     "ename": "SyntaxError",
     "evalue": "invalid syntax. Perhaps you forgot a comma? (2965464915.py, line 1)",
     "output_type": "error",
     "traceback": [
      "\u001b[1;36m  Cell \u001b[1;32mIn[1], line 1\u001b[1;36m\u001b[0m\n\u001b[1;33m    int(input(enter number))\u001b[0m\n\u001b[1;37m              ^\u001b[0m\n\u001b[1;31mSyntaxError\u001b[0m\u001b[1;31m:\u001b[0m invalid syntax. Perhaps you forgot a comma?\n"
     ]
    }
   ],
   "source": [
    "int(input(enter number))\n",
    "if num % 2==0:\n",
    "    print (\"even number\")\n",
    "else:\n",
    "    print(\"odd number\")\n",
    "    \n"
   ]
  },
  {
   "cell_type": "code",
   "execution_count": 2,
   "id": "aed6c72a-1f64-4875-bc7e-2b9fad3038b9",
   "metadata": {},
   "outputs": [
    {
     "name": "stdin",
     "output_type": "stream",
     "text": [
      "enter number 20\n"
     ]
    },
    {
     "ename": "NameError",
     "evalue": "name 'num' is not defined",
     "output_type": "error",
     "traceback": [
      "\u001b[1;31m---------------------------------------------------------------------------\u001b[0m",
      "\u001b[1;31mNameError\u001b[0m                                 Traceback (most recent call last)",
      "Cell \u001b[1;32mIn[2], line 2\u001b[0m\n\u001b[0;32m      1\u001b[0m \u001b[38;5;28mint\u001b[39m(\u001b[38;5;28minput\u001b[39m(\u001b[38;5;124m\"\u001b[39m\u001b[38;5;124menter number\u001b[39m\u001b[38;5;124m\"\u001b[39m))\n\u001b[1;32m----> 2\u001b[0m \u001b[38;5;28;01mif\u001b[39;00m \u001b[43mnum\u001b[49m \u001b[38;5;241m%\u001b[39m \u001b[38;5;241m2\u001b[39m\u001b[38;5;241m==\u001b[39m\u001b[38;5;241m0\u001b[39m:\n\u001b[0;32m      3\u001b[0m     \u001b[38;5;28mprint\u001b[39m (\u001b[38;5;124m\"\u001b[39m\u001b[38;5;124meven number\u001b[39m\u001b[38;5;124m\"\u001b[39m)\n\u001b[0;32m      4\u001b[0m \u001b[38;5;28;01melse\u001b[39;00m:\n",
      "\u001b[1;31mNameError\u001b[0m: name 'num' is not defined"
     ]
    }
   ],
   "source": [
    "int(input(\"enter number\"))\n",
    "if num % 2==0:\n",
    "    print (\"even number\")\n",
    "else:\n",
    "    print(\"odd number\")\n",
    "    "
   ]
  },
  {
   "cell_type": "code",
   "execution_count": 3,
   "id": "932c3c56-d182-49c2-9f92-5f2464ce4b52",
   "metadata": {},
   "outputs": [
    {
     "name": "stdin",
     "output_type": "stream",
     "text": [
      "enter number 30\n"
     ]
    },
    {
     "name": "stdout",
     "output_type": "stream",
     "text": [
      "even number\n"
     ]
    }
   ],
   "source": [
    "num=int(input(\"enter number\"))\n",
    "if num % 2==0:\n",
    "    print (\"even number\")\n",
    "else:\n",
    "    print(\"odd number\")\n",
    "    "
   ]
  },
  {
   "cell_type": "code",
   "execution_count": 7,
   "id": "fabb4d6f-0bd9-4ad5-80ad-c4ca295f753d",
   "metadata": {},
   "outputs": [
    {
     "name": "stdin",
     "output_type": "stream",
     "text": [
      "enter age 27\n"
     ]
    },
    {
     "name": "stdout",
     "output_type": "stream",
     "text": [
      "he is eligible for marriage\n"
     ]
    }
   ],
   "source": [
    "age =int (input(\"enter age\"))\n",
    "if age>25:\n",
    "    print(\"he is eligible for marriage\")\n",
    "else:    \n",
    "    \n",
    "    \n",
    "         \n",
    "    print(\"he is not eligibale for marriage\")\n",
    "    \n",
    "    "
   ]
  },
  {
   "cell_type": "code",
   "execution_count": 8,
   "id": "2a744c3b-8605-4982-a914-02f7d613f478",
   "metadata": {},
   "outputs": [
    {
     "name": "stdin",
     "output_type": "stream",
     "text": [
      "enter age 20\n"
     ]
    },
    {
     "name": "stdout",
     "output_type": "stream",
     "text": [
      "he is eligible for marriage\n"
     ]
    }
   ],
   "source": [
    "age =int (input(\"enter age\"))\n",
    "if age<25:\n",
    "    print(\"he is eligible for marriage\")\n",
    "else:    \n",
    "    \n",
    "    \n",
    "         \n",
    "    print(\"he is not eligibale for marriage\")\n",
    "    "
   ]
  },
  {
   "cell_type": "code",
   "execution_count": 15,
   "id": "52554a2b-0925-489e-b831-f1a09190f61d",
   "metadata": {},
   "outputs": [
    {
     "name": "stdin",
     "output_type": "stream",
     "text": [
      "enter the number 10000\n"
     ]
    },
    {
     "name": "stdout",
     "output_type": "stream",
     "text": [
      "Given number is not four digit number\n"
     ]
    }
   ],
   "source": [
    "num=int(input(\"enter the number\"))\n",
    "if num>=1000 and num<=9999:\n",
    "    print(\"Given number is four digit number\")\n",
    "else:\n",
    "    print(\"Given number is not four digit number\")"
   ]
  },
  {
   "cell_type": "code",
   "execution_count": 16,
   "id": "e68f881f-87c3-4bcb-8a08-2fe1d61584ed",
   "metadata": {},
   "outputs": [
    {
     "name": "stdin",
     "output_type": "stream",
     "text": [
      "enter the number 9998\n"
     ]
    },
    {
     "name": "stdout",
     "output_type": "stream",
     "text": [
      "Given number is four digit number\n"
     ]
    }
   ],
   "source": [
    "num=int(input(\"enter the number\"))\n",
    "if num>=1000 and num<=9999:\n",
    "    print(\"Given number is four digit number\")\n",
    "else:\n",
    "    print(\"Given number is not four digit number\")"
   ]
  },
  {
   "cell_type": "code",
   "execution_count": 17,
   "id": "ca5d96cc-0bb1-429b-85b1-9a154123913d",
   "metadata": {},
   "outputs": [
    {
     "name": "stdin",
     "output_type": "stream",
     "text": [
      "enter the number 999\n"
     ]
    },
    {
     "name": "stdout",
     "output_type": "stream",
     "text": [
      "Given number is not four digit number\n"
     ]
    }
   ],
   "source": [
    "num=int(input(\"enter the number\"))\n",
    "if num>=1000 and num<=9999:\n",
    "    print(\"Given number is four digit number\")\n",
    "else:\n",
    "    print(\"Given number is not four digit number\")"
   ]
  },
  {
   "cell_type": "code",
   "execution_count": 18,
   "id": "3c132193-10cc-448a-8558-770e955f903a",
   "metadata": {},
   "outputs": [
    {
     "name": "stdin",
     "output_type": "stream",
     "text": [
      "enter the number 1124\n"
     ]
    },
    {
     "name": "stdout",
     "output_type": "stream",
     "text": [
      "Given number is four digit number\n"
     ]
    }
   ],
   "source": [
    "num=int(input(\"enter the number\"))\n",
    "if num>=1000 and num<=9999:\n",
    "    print(\"Given number is four digit number\")\n",
    "else:\n",
    "    print(\"Given number is not four digit number\")"
   ]
  },
  {
   "cell_type": "code",
   "execution_count": null,
   "id": "b00dbdfc-5c12-4a5c-95f6-b62cdc457940",
   "metadata": {},
   "outputs": [],
   "source": []
  }
 ],
 "metadata": {
  "kernelspec": {
   "display_name": "Python 3 (ipykernel)",
   "language": "python",
   "name": "python3"
  },
  "language_info": {
   "codemirror_mode": {
    "name": "ipython",
    "version": 3
   },
   "file_extension": ".py",
   "mimetype": "text/x-python",
   "name": "python",
   "nbconvert_exporter": "python",
   "pygments_lexer": "ipython3",
   "version": "3.12.2"
  }
 },
 "nbformat": 4,
 "nbformat_minor": 5
}
