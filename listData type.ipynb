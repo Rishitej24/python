{
 "cells": [
  {
   "cell_type": "code",
   "execution_count": 3,
   "id": "37e8fb4e-be8d-4930-9661-4f6584fb1c5f",
   "metadata": {},
   "outputs": [
    {
     "name": "stdout",
     "output_type": "stream",
     "text": [
      "<class 'list'>\n",
      "<class 'list'>\n"
     ]
    }
   ],
   "source": [
    "l1=[]\n",
    "l2=[10,20,30,40.2,\"true\",(),{},{},\"rishi\"]\n",
    "print(type(l1))\n",
    "print(type(l2))    "
   ]
  },
  {
   "cell_type": "code",
   "execution_count": 5,
   "id": "08767604-0639-4c14-945a-b4f106b30bbb",
   "metadata": {},
   "outputs": [
    {
     "name": "stdout",
     "output_type": "stream",
     "text": [
      "[10, 20, 30, 40, 50]\n",
      "[80, 100, 70, 90, 60]\n",
      "[110, 120, 130, 140, 150]\n",
      "[30, 31, 32, 33, 34, 35, 36, 37, 38, 39]\n",
      "['R', 'i', 's', 'h', 'i', 't', 'e', 'j']\n"
     ]
    }
   ],
   "source": [
    "l1=list([10,20,30,40,50])\n",
    "l2=list({60,70,80,90,100})\n",
    "l3=list((110,120,130,140,150))\n",
    "l4=list(range(30,40))\n",
    "l5=list(\"Rishitej\")\n",
    "print(l1)\n",
    "print(l2)\n",
    "print(l3)\n",
    "print(l4)\n",
    "print(l5)\n",
    "\n",
    "\n"
   ]
  },
  {
   "cell_type": "code",
   "execution_count": 6,
   "id": "362db04e-f02c-4607-b951-3547d64b77fe",
   "metadata": {},
   "outputs": [
    {
     "name": "stdout",
     "output_type": "stream",
     "text": [
      "<class 'list'>\n",
      "['Rishitej']\n"
     ]
    }
   ],
   "source": [
    "l1=\"Rishitej\".split()\n",
    "print(type(l1))\n",
    "print(l1)"
   ]
  },
  {
   "cell_type": "code",
   "execution_count": 7,
   "id": "58178441-7bb4-46f9-a761-ba2b3e86391f",
   "metadata": {},
   "outputs": [
    {
     "name": "stdout",
     "output_type": "stream",
     "text": [
      "<class 'list'>\n",
      "['Rishi', 'tej']\n"
     ]
    }
   ],
   "source": [
    "l1=\"Rishi tej\".split()\n",
    "print(type(l1))\n",
    "print(l1)"
   ]
  },
  {
   "cell_type": "code",
   "execution_count": null,
   "id": "17f855a2-9a94-4f69-a214-388889a16df1",
   "metadata": {},
   "outputs": [],
   "source": []
  }
 ],
 "metadata": {
  "kernelspec": {
   "display_name": "Python 3 (ipykernel)",
   "language": "python",
   "name": "python3"
  },
  "language_info": {
   "codemirror_mode": {
    "name": "ipython",
    "version": 3
   },
   "file_extension": ".py",
   "mimetype": "text/x-python",
   "name": "python",
   "nbconvert_exporter": "python",
   "pygments_lexer": "ipython3",
   "version": "3.12.2"
  }
 },
 "nbformat": 4,
 "nbformat_minor": 5
}
